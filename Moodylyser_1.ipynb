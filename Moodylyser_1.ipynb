{
  "nbformat": 4,
  "nbformat_minor": 0,
  "metadata": {
    "colab": {
      "name": "Moodylyser 1",
      "provenance": [],
      "collapsed_sections": [],
      "toc_visible": true
    },
    "kernelspec": {
      "display_name": "Python 3",
      "name": "python3"
    },
    "accelerator": "GPU"
  },
  "cells": [
    {
      "cell_type": "code",
      "metadata": {
        "id": "7CIAXGtjjI2J",
        "colab_type": "code",
        "outputId": "122ed55d-bf5b-414a-f44c-7ea41e221863",
        "colab": {
          "base_uri": "https://localhost:8080/",
          "height": 124
        }
      },
      "source": [
        "from google.colab import drive\n",
        "drive.mount('/content/drive')"
      ],
      "execution_count": 0,
      "outputs": [
        {
          "output_type": "stream",
          "text": [
            "Go to this URL in a browser: https://accounts.google.com/o/oauth2/auth?client_id=947318989803-6bn6qk8qdgf4n4g3pfee6491hc0brc4i.apps.googleusercontent.com&redirect_uri=urn%3aietf%3awg%3aoauth%3a2.0%3aoob&response_type=code&scope=email%20https%3a%2f%2fwww.googleapis.com%2fauth%2fdocs.test%20https%3a%2f%2fwww.googleapis.com%2fauth%2fdrive%20https%3a%2f%2fwww.googleapis.com%2fauth%2fdrive.photos.readonly%20https%3a%2f%2fwww.googleapis.com%2fauth%2fpeopleapi.readonly\n",
            "\n",
            "Enter your authorization code:\n",
            "··········\n",
            "Mounted at /content/drive\n"
          ],
          "name": "stdout"
        }
      ]
    },
    {
      "cell_type": "code",
      "metadata": {
        "id": "uCOqhYTumtfy",
        "colab_type": "code",
        "colab": {}
      },
      "source": [
        "import numpy as np\n",
        "import keras\n",
        "from keras import layers\n",
        "from keras.layers import Input, Dense, Activation, ZeroPadding2D, BatchNormalization, Flatten, Conv2D\n",
        "from keras.layers import MaxPooling2D, AveragePooling2D, GlobalMaxPooling2D, GlobalAveragePooling2D\n",
        "from keras.models import Model\n",
        "from keras.preprocessing import image\n",
        "from keras.utils import layer_utils\n",
        "from keras.utils.data_utils import get_file\n",
        "from keras.applications.imagenet_utils import preprocess_input\n",
        "from IPython.display import SVG\n",
        "from keras.utils.vis_utils import model_to_dot\n",
        "from keras.utils import plot_model\n",
        "import keras.backend as K\n",
        "K.set_image_data_format(\"channels_last\")\n",
        "import matplotlib.pyplot as plt\n",
        "from matplotlib.pyplot import imshow\n",
        "import math\n",
        "import h5py\n",
        "import tensorflow as tf\n",
        "from tensorflow.keras import callbacks\n",
        "\n",
        "\n",
        "%matplotlib inline\n"
      ],
      "execution_count": 0,
      "outputs": []
    },
    {
      "cell_type": "code",
      "metadata": {
        "id": "TsYeOKEqjdP3",
        "colab_type": "code",
        "outputId": "c8567fa4-4208-4669-f35f-09879824fbdd",
        "colab": {
          "base_uri": "https://localhost:8080/",
          "height": 35
        }
      },
      "source": [
        "import pandas as pd\n",
        "import numpy as np\n",
        "import matplotlib.pyplot as plt\n",
        "\n",
        "import cv2 \n",
        "\n",
        "\n",
        "# Read Metadata\n",
        "meta_df = pd.read_csv(r\"/content/drive/My Drive/fer2013.csv\")\n",
        "\n",
        "emotions = ['Angry', 'Disgust', 'Fear', 'Happy', 'Sad', 'Surprise', 'Neutral']\n",
        "classes = len(emotions)\n",
        "meta_df = meta_df.rename(columns={\"emotion\":\"label\",\"pixels\":\"image\"})\n",
        "meta_df['emotion'] = meta_df['label'].apply(lambda x: emotions[int(x)])\n",
        "meta_df = meta_df.drop(columns=['Usage'])\n",
        "print(classes)"
      ],
      "execution_count": 0,
      "outputs": [
        {
          "output_type": "stream",
          "text": [
            "7\n"
          ],
          "name": "stdout"
        }
      ]
    },
    {
      "cell_type": "code",
      "metadata": {
        "id": "OcBDuPz6jt_d",
        "colab_type": "code",
        "outputId": "4ee6e9df-2fef-4cdc-bec2-29e86267415f",
        "colab": {
          "base_uri": "https://localhost:8080/",
          "height": 415
        }
      },
      "source": [
        "meta_df "
      ],
      "execution_count": 0,
      "outputs": [
        {
          "output_type": "execute_result",
          "data": {
            "text/html": [
              "<div>\n",
              "<style scoped>\n",
              "    .dataframe tbody tr th:only-of-type {\n",
              "        vertical-align: middle;\n",
              "    }\n",
              "\n",
              "    .dataframe tbody tr th {\n",
              "        vertical-align: top;\n",
              "    }\n",
              "\n",
              "    .dataframe thead th {\n",
              "        text-align: right;\n",
              "    }\n",
              "</style>\n",
              "<table border=\"1\" class=\"dataframe\">\n",
              "  <thead>\n",
              "    <tr style=\"text-align: right;\">\n",
              "      <th></th>\n",
              "      <th>label</th>\n",
              "      <th>image</th>\n",
              "      <th>emotion</th>\n",
              "    </tr>\n",
              "  </thead>\n",
              "  <tbody>\n",
              "    <tr>\n",
              "      <th>0</th>\n",
              "      <td>0</td>\n",
              "      <td>70 80 82 72 58 58 60 63 54 58 60 48 89 115 121...</td>\n",
              "      <td>Angry</td>\n",
              "    </tr>\n",
              "    <tr>\n",
              "      <th>1</th>\n",
              "      <td>0</td>\n",
              "      <td>151 150 147 155 148 133 111 140 170 174 182 15...</td>\n",
              "      <td>Angry</td>\n",
              "    </tr>\n",
              "    <tr>\n",
              "      <th>2</th>\n",
              "      <td>2</td>\n",
              "      <td>231 212 156 164 174 138 161 173 182 200 106 38...</td>\n",
              "      <td>Fear</td>\n",
              "    </tr>\n",
              "    <tr>\n",
              "      <th>3</th>\n",
              "      <td>4</td>\n",
              "      <td>24 32 36 30 32 23 19 20 30 41 21 22 32 34 21 1...</td>\n",
              "      <td>Sad</td>\n",
              "    </tr>\n",
              "    <tr>\n",
              "      <th>4</th>\n",
              "      <td>6</td>\n",
              "      <td>4 0 0 0 0 0 0 0 0 0 0 0 3 15 23 28 48 50 58 84...</td>\n",
              "      <td>Neutral</td>\n",
              "    </tr>\n",
              "    <tr>\n",
              "      <th>...</th>\n",
              "      <td>...</td>\n",
              "      <td>...</td>\n",
              "      <td>...</td>\n",
              "    </tr>\n",
              "    <tr>\n",
              "      <th>35882</th>\n",
              "      <td>6</td>\n",
              "      <td>50 36 17 22 23 29 33 39 34 37 37 37 39 43 48 5...</td>\n",
              "      <td>Neutral</td>\n",
              "    </tr>\n",
              "    <tr>\n",
              "      <th>35883</th>\n",
              "      <td>3</td>\n",
              "      <td>178 174 172 173 181 188 191 194 196 199 200 20...</td>\n",
              "      <td>Happy</td>\n",
              "    </tr>\n",
              "    <tr>\n",
              "      <th>35884</th>\n",
              "      <td>0</td>\n",
              "      <td>17 17 16 23 28 22 19 17 25 26 20 24 31 19 27 9...</td>\n",
              "      <td>Angry</td>\n",
              "    </tr>\n",
              "    <tr>\n",
              "      <th>35885</th>\n",
              "      <td>3</td>\n",
              "      <td>30 28 28 29 31 30 42 68 79 81 77 67 67 71 63 6...</td>\n",
              "      <td>Happy</td>\n",
              "    </tr>\n",
              "    <tr>\n",
              "      <th>35886</th>\n",
              "      <td>2</td>\n",
              "      <td>19 13 14 12 13 16 21 33 50 57 71 84 97 108 122...</td>\n",
              "      <td>Fear</td>\n",
              "    </tr>\n",
              "  </tbody>\n",
              "</table>\n",
              "<p>35887 rows × 3 columns</p>\n",
              "</div>"
            ],
            "text/plain": [
              "       label                                              image  emotion\n",
              "0          0  70 80 82 72 58 58 60 63 54 58 60 48 89 115 121...    Angry\n",
              "1          0  151 150 147 155 148 133 111 140 170 174 182 15...    Angry\n",
              "2          2  231 212 156 164 174 138 161 173 182 200 106 38...     Fear\n",
              "3          4  24 32 36 30 32 23 19 20 30 41 21 22 32 34 21 1...      Sad\n",
              "4          6  4 0 0 0 0 0 0 0 0 0 0 0 3 15 23 28 48 50 58 84...  Neutral\n",
              "...      ...                                                ...      ...\n",
              "35882      6  50 36 17 22 23 29 33 39 34 37 37 37 39 43 48 5...  Neutral\n",
              "35883      3  178 174 172 173 181 188 191 194 196 199 200 20...    Happy\n",
              "35884      0  17 17 16 23 28 22 19 17 25 26 20 24 31 19 27 9...    Angry\n",
              "35885      3  30 28 28 29 31 30 42 68 79 81 77 67 67 71 63 6...    Happy\n",
              "35886      2  19 13 14 12 13 16 21 33 50 57 71 84 97 108 122...     Fear\n",
              "\n",
              "[35887 rows x 3 columns]"
            ]
          },
          "metadata": {
            "tags": []
          },
          "execution_count": 13
        }
      ]
    },
    {
      "cell_type": "code",
      "metadata": {
        "id": "4v1Ve88Wlhq5",
        "colab_type": "code",
        "outputId": "8beb583b-59e3-4711-c7f8-45c1472d7345",
        "colab": {
          "base_uri": "https://localhost:8080/",
          "height": 35
        }
      },
      "source": [
        "train_set_x_orig=[]\n",
        "for id in range(35887):\n",
        "    image = np.reshape(np.array(meta_df.image[id].split(' ')).astype(int),(48,48, 1))\n",
        "    train_set_x_orig.append(image)\n",
        "train_set_x_orig = np.array(train_set_x_orig)\n",
        "print(train_set_x_orig.shape)"
      ],
      "execution_count": 0,
      "outputs": [
        {
          "output_type": "stream",
          "text": [
            "(35887, 48, 48, 1)\n"
          ],
          "name": "stdout"
        }
      ]
    },
    {
      "cell_type": "code",
      "metadata": {
        "id": "LqsORwj1mKoF",
        "colab_type": "code",
        "outputId": "feb15052-9aa4-4eb7-97dd-321eac229faa",
        "colab": {
          "base_uri": "https://localhost:8080/",
          "height": 35
        }
      },
      "source": [
        "train_set_y_orig = np.array(meta_df.label)\n",
        "print(train_set_y_orig.shape[0])"
      ],
      "execution_count": 0,
      "outputs": [
        {
          "output_type": "stream",
          "text": [
            "35887\n"
          ],
          "name": "stdout"
        }
      ]
    },
    {
      "cell_type": "code",
      "metadata": {
        "id": "RMBHg-wLljWW",
        "colab_type": "code",
        "colab": {}
      },
      "source": [
        "test_set_x_orig = []\n",
        "test_set_y_orig = []\n",
        "test_set_x_orig = np.array(test_set_x_orig)\n",
        "test_set_y_orig = np.array(test_set_y_orig)"
      ],
      "execution_count": 0,
      "outputs": []
    },
    {
      "cell_type": "code",
      "metadata": {
        "id": "FKC82n3pl1rm",
        "colab_type": "code",
        "outputId": "43dd74dc-c59e-49c7-c568-0fe4dbebf0a8",
        "colab": {
          "base_uri": "https://localhost:8080/",
          "height": 87
        }
      },
      "source": [
        "from sklearn.model_selection import train_test_split\n",
        "train_set_x_orig, test_set_x_orig, train_set_y_orig, test_set_y_orig = train_test_split(train_set_x_orig, train_set_y_orig,shuffle = True, stratify = train_set_y_orig, random_state = 2020, test_size = 0.2 )\n",
        "\n",
        "print(train_set_x_orig.shape)\n",
        "print(test_set_x_orig.shape)\n",
        "print(train_set_y_orig.shape)\n",
        "print(test_set_x_orig.shape)"
      ],
      "execution_count": 0,
      "outputs": [
        {
          "output_type": "stream",
          "text": [
            "(28709, 48, 48, 1)\n",
            "(7178, 48, 48, 1)\n",
            "(28709,)\n",
            "(7178, 48, 48, 1)\n"
          ],
          "name": "stdout"
        }
      ]
    },
    {
      "cell_type": "code",
      "metadata": {
        "id": "lhDt-w1wmWis",
        "colab_type": "code",
        "outputId": "2dfbcdb3-2834-4223-a5f0-466642af7079",
        "colab": {
          "base_uri": "https://localhost:8080/",
          "height": 121
        }
      },
      "source": [
        "# Normalize image vectors\n",
        "X_train = train_set_x_orig/255.\n",
        "X_test = test_set_x_orig/255.\n",
        "\n",
        "# Reshape\n",
        "Y_train = train_set_y_orig.T\n",
        "Y_test = test_set_y_orig.T\n",
        "\n",
        "\n",
        "print (\"number of training examples = \" + str(X_train.shape[0]))\n",
        "print (\"number of test examples = \" + str(X_test.shape[0]))\n",
        "print (\"X_train shape: \" + str(X_train.shape))\n",
        "print (\"Y_train shape: \" + str(Y_train.shape))\n",
        "print (\"X_test shape: \" + str(X_test.shape))\n",
        "print (\"Y_test shape: \" + str(Y_test.shape))"
      ],
      "execution_count": 0,
      "outputs": [
        {
          "output_type": "stream",
          "text": [
            "number of training examples = 28709\n",
            "number of test examples = 7178\n",
            "X_train shape: (28709, 48, 48, 1)\n",
            "Y_train shape: (28709,)\n",
            "X_test shape: (7178, 48, 48, 1)\n",
            "Y_test shape: (7178,)\n"
          ],
          "name": "stdout"
        }
      ]
    },
    {
      "cell_type": "code",
      "metadata": {
        "id": "tfuIDHaSmcoS",
        "colab_type": "code",
        "colab": {}
      },
      "source": [
        "from keras.utils import to_categorical\n",
        "Y_train = to_categorical(Y_train, num_classes = classes)\n",
        "\n"
      ],
      "execution_count": 0,
      "outputs": []
    },
    {
      "cell_type": "code",
      "metadata": {
        "id": "nrxQ7Kly31WZ",
        "colab_type": "code",
        "outputId": "c788deb3-9227-4692-dcbe-589f47b5900d",
        "colab": {
          "base_uri": "https://localhost:8080/",
          "height": 52
        }
      },
      "source": [
        "Y_test = to_categorical(Y_test, num_classes = classes)\n",
        "print(Y_train.shape)\n",
        "print(Y_test.shape)"
      ],
      "execution_count": 0,
      "outputs": [
        {
          "output_type": "stream",
          "text": [
            "(28709, 7)\n",
            "(7178, 7)\n"
          ],
          "name": "stdout"
        }
      ]
    },
    {
      "cell_type": "code",
      "metadata": {
        "id": "NOFi8tZkmgtz",
        "colab_type": "code",
        "colab": {}
      },
      "source": [
        "def Moodel(input_shape):\n",
        "   \n",
        "    \n",
        "    X_input = Input(input_shape)\n",
        "    \n",
        "    #Block 1 -- conv2d - MaxPooling\n",
        "    \n",
        "    X = ZeroPadding2D((3,3))(X_input)\n",
        "    \n",
        "    X = Conv2D(32,(3,3), strides = (1,1), name = 'conv0')(X)\n",
        "    X = BatchNormalization(axis=3, name = 'bn0')(X)\n",
        "    X = Activation('relu')(X)\n",
        "    \n",
        "    #MaxPool\n",
        "    \n",
        "    X = MaxPooling2D((3,3), strides = (1,1), name = 'max_pool_0')(X)\n",
        "    \n",
        "    \n",
        "    #Block2 -- conv2D -- maxpool2D\n",
        "    \n",
        "    X = Conv2D(64,(3,3), name = 'conv1')(X)\n",
        "    X = BatchNormalization(axis=3, name = 'bn1')(X)\n",
        "    X = Activation('relu')(X)\n",
        "    \n",
        "    #MaxPool\n",
        "    \n",
        "    X= MaxPooling2D((2,2), strides = (2,2), name = 'max_pool_1')(X)\n",
        "    \n",
        "    \n",
        "    #Block3 -- conv2D -- MaxPool2D\n",
        "    \n",
        "    X = Conv2D(128,(3,3), name =\"conv2\")(X)\n",
        "    X = BatchNormalization(axis = 3, name = 'bn2')(X)\n",
        "    X = Activation(\"relu\")(X)\n",
        "    \n",
        "    #MaxPool\n",
        "    \n",
        "    X = MaxPooling2D((3,3), strides = (1,1), name = 'max_pool_2')(X)\n",
        "    \n",
        "    \n",
        "    #Block4 -- conv2D -- MaxPool2D\n",
        "    \n",
        "    X = Conv2D(256,(3,3), name =\"conv3\")(X)\n",
        "    X = BatchNormalization(axis = 3, name = 'bn3')(X)\n",
        "    X = Activation(\"relu\")(X)\n",
        "    \n",
        "    #MaxPool\n",
        "    \n",
        "    X = MaxPooling2D((2,2), strides = (2,2), name = 'max_pool_3')(X)\n",
        "    \n",
        "    \n",
        "    #Block5 -- conv2D -- MaxPool2D\n",
        "    \n",
        "    X = Conv2D(512,(3,3), name =\"conv4\")(X)\n",
        "    X = BatchNormalization(axis = 3, name = 'bn4')(X)\n",
        "    X = Activation(\"relu\")(X)\n",
        "    \n",
        "    #MaxPool\n",
        "    \n",
        "    X = MaxPooling2D((2,2), strides = (2,2), name = 'max_pool_4')(X)\n",
        "    \n",
        "    #Block6 --flatten --dense\n",
        "    \n",
        "    X = layers.Dropout(0.5)(X)\n",
        "    X = Flatten()(X)\n",
        "    X = Dense(128, activation = 'relu', name = 'fc')(X)\n",
        "    X = Dense(64, activation = 'relu', name = 'fc1')(X)\n",
        "    X = Dense(7, activation = 'softmax', name = 'fc2')(X)\n",
        "    \n",
        "   \n",
        "    \n",
        "     #Block5 \n",
        "    \n",
        "    model = Model(inputs = X_input, output = X, name = 'Moodel')\n",
        "    \n",
        "    return model"
      ],
      "execution_count": 0,
      "outputs": []
    },
    {
      "cell_type": "code",
      "metadata": {
        "id": "Mi5oPwTSmm65",
        "colab_type": "code",
        "outputId": "abf63d4c-019d-49df-b550-d622347bf98d",
        "colab": {
          "base_uri": "https://localhost:8080/",
          "height": 55
        }
      },
      "source": [
        "moodel = Moodel(X_train.shape[1:])"
      ],
      "execution_count": 0,
      "outputs": [
        {
          "output_type": "stream",
          "text": [
            "/usr/local/lib/python3.6/dist-packages/ipykernel_launcher.py:74: UserWarning: Update your `Model` call to the Keras 2 API: `Model(inputs=Tensor(\"in..., name=\"Moodel\", outputs=Tensor(\"fc...)`\n"
          ],
          "name": "stderr"
        }
      ]
    },
    {
      "cell_type": "code",
      "metadata": {
        "id": "jypuTV3gnBRo",
        "colab_type": "code",
        "colab": {}
      },
      "source": [
        "my_callback = [tf.keras.callbacks.EarlyStopping(monitor = 'loss', patience = 4)]"
      ],
      "execution_count": 0,
      "outputs": []
    },
    {
      "cell_type": "code",
      "metadata": {
        "id": "ybjYH81bm1lu",
        "colab_type": "code",
        "colab": {}
      },
      "source": [
        "moodel.compile(optimizer = \"adam\", loss = \"categorical_crossentropy\", metrics = [\"accuracy\"])"
      ],
      "execution_count": 0,
      "outputs": []
    },
    {
      "cell_type": "code",
      "metadata": {
        "id": "3TlquBscrJT5",
        "colab_type": "code",
        "outputId": "5f866ff8-5a9c-4056-e6f4-81220e99bd60",
        "colab": {
          "base_uri": "https://localhost:8080/",
          "height": 166
        }
      },
      "source": [
        ""
      ],
      "execution_count": 0,
      "outputs": [
        {
          "output_type": "error",
          "ename": "AttributeError",
          "evalue": "ignored",
          "traceback": [
            "\u001b[0;31m---------------------------------------------------------------------------\u001b[0m",
            "\u001b[0;31mAttributeError\u001b[0m                            Traceback (most recent call last)",
            "\u001b[0;32m<ipython-input-35-3a58de1a1a92>\u001b[0m in \u001b[0;36m<module>\u001b[0;34m()\u001b[0m\n\u001b[0;32m----> 1\u001b[0;31m \u001b[0mprint\u001b[0m\u001b[0;34m(\u001b[0m\u001b[0mmoodel\u001b[0m\u001b[0;34m.\u001b[0m\u001b[0mlayers\u001b[0m\u001b[0;34m.\u001b[0m\u001b[0mfc\u001b[0m\u001b[0;34m.\u001b[0m\u001b[0mshape\u001b[0m\u001b[0;34m)\u001b[0m\u001b[0;34m\u001b[0m\u001b[0;34m\u001b[0m\u001b[0m\n\u001b[0m",
            "\u001b[0;31mAttributeError\u001b[0m: 'list' object has no attribute 'fc'"
          ]
        }
      ]
    },
    {
      "cell_type": "code",
      "metadata": {
        "id": "JHeV7TvLm7OS",
        "colab_type": "code",
        "outputId": "64a830d4-06c6-4a92-faf6-0ee57276cb13",
        "colab": {
          "base_uri": "https://localhost:8080/",
          "height": 1000
        }
      },
      "source": [
        "history = moodel.fit(X_train, Y_train, epochs = 60, batch_size=200, verbose = 1, validation_split = 0.2, callbacks = my_callback)\n"
      ],
      "execution_count": 0,
      "outputs": [
        {
          "output_type": "stream",
          "text": [
            "Train on 22967 samples, validate on 5742 samples\n",
            "Epoch 1/60\n",
            "22967/22967 [==============================] - 12s 534us/step - loss: 1.7111 - accuracy: 0.3421 - val_loss: 1.8610 - val_accuracy: 0.1722\n",
            "Epoch 2/60\n",
            "22967/22967 [==============================] - 11s 492us/step - loss: 1.3513 - accuracy: 0.4850 - val_loss: 1.8524 - val_accuracy: 0.1999\n",
            "Epoch 3/60\n",
            "22967/22967 [==============================] - 11s 492us/step - loss: 1.2321 - accuracy: 0.5302 - val_loss: 1.5845 - val_accuracy: 0.3802\n",
            "Epoch 4/60\n",
            "22967/22967 [==============================] - 11s 494us/step - loss: 1.1427 - accuracy: 0.5676 - val_loss: 1.4586 - val_accuracy: 0.4624\n",
            "Epoch 5/60\n",
            "22967/22967 [==============================] - 11s 494us/step - loss: 1.0867 - accuracy: 0.5895 - val_loss: 1.1851 - val_accuracy: 0.5488\n",
            "Epoch 6/60\n",
            "22967/22967 [==============================] - 11s 492us/step - loss: 1.0430 - accuracy: 0.6088 - val_loss: 1.1405 - val_accuracy: 0.5688\n",
            "Epoch 7/60\n",
            "22967/22967 [==============================] - 11s 492us/step - loss: 0.9927 - accuracy: 0.6299 - val_loss: 1.2279 - val_accuracy: 0.5502\n",
            "Epoch 8/60\n",
            "22967/22967 [==============================] - 11s 492us/step - loss: 0.9441 - accuracy: 0.6450 - val_loss: 1.1260 - val_accuracy: 0.5726\n",
            "Epoch 9/60\n",
            "22967/22967 [==============================] - 11s 494us/step - loss: 0.9040 - accuracy: 0.6596 - val_loss: 1.2452 - val_accuracy: 0.5622\n",
            "Epoch 10/60\n",
            "22967/22967 [==============================] - 11s 494us/step - loss: 0.8619 - accuracy: 0.6790 - val_loss: 1.1676 - val_accuracy: 0.5857\n",
            "Epoch 11/60\n",
            "22967/22967 [==============================] - 11s 493us/step - loss: 0.8195 - accuracy: 0.6933 - val_loss: 1.1657 - val_accuracy: 0.5862\n",
            "Epoch 12/60\n",
            "22967/22967 [==============================] - 11s 492us/step - loss: 0.7653 - accuracy: 0.7145 - val_loss: 1.7899 - val_accuracy: 0.4819\n",
            "Epoch 13/60\n",
            "22967/22967 [==============================] - 11s 493us/step - loss: 0.7273 - accuracy: 0.7306 - val_loss: 1.9967 - val_accuracy: 0.4040\n",
            "Epoch 14/60\n",
            "22967/22967 [==============================] - 11s 494us/step - loss: 0.6585 - accuracy: 0.7582 - val_loss: 1.4479 - val_accuracy: 0.5059\n",
            "Epoch 15/60\n",
            "22967/22967 [==============================] - 11s 496us/step - loss: 0.6204 - accuracy: 0.7702 - val_loss: 1.4054 - val_accuracy: 0.5300\n",
            "Epoch 16/60\n",
            "22967/22967 [==============================] - 11s 494us/step - loss: 0.5687 - accuracy: 0.7917 - val_loss: 1.6466 - val_accuracy: 0.5035\n",
            "Epoch 17/60\n",
            "22967/22967 [==============================] - 11s 492us/step - loss: 0.5217 - accuracy: 0.8074 - val_loss: 1.7452 - val_accuracy: 0.5355\n",
            "Epoch 18/60\n",
            "22967/22967 [==============================] - 11s 492us/step - loss: 0.4745 - accuracy: 0.8244 - val_loss: 1.2790 - val_accuracy: 0.6130\n",
            "Epoch 19/60\n",
            "22967/22967 [==============================] - 11s 493us/step - loss: 0.4268 - accuracy: 0.8456 - val_loss: 1.3869 - val_accuracy: 0.5972\n",
            "Epoch 20/60\n",
            "22967/22967 [==============================] - 11s 493us/step - loss: 0.3831 - accuracy: 0.8603 - val_loss: 1.6153 - val_accuracy: 0.5427\n",
            "Epoch 21/60\n",
            "22967/22967 [==============================] - 11s 493us/step - loss: 0.3387 - accuracy: 0.8773 - val_loss: 2.0135 - val_accuracy: 0.5333\n",
            "Epoch 22/60\n",
            "22967/22967 [==============================] - 11s 492us/step - loss: 0.3049 - accuracy: 0.8906 - val_loss: 1.7689 - val_accuracy: 0.5515\n",
            "Epoch 23/60\n",
            "22967/22967 [==============================] - 11s 493us/step - loss: 0.2888 - accuracy: 0.8959 - val_loss: 1.5845 - val_accuracy: 0.5890\n",
            "Epoch 24/60\n",
            "22967/22967 [==============================] - 11s 492us/step - loss: 0.2525 - accuracy: 0.9088 - val_loss: 1.8734 - val_accuracy: 0.5819\n",
            "Epoch 25/60\n",
            "22967/22967 [==============================] - 11s 493us/step - loss: 0.2311 - accuracy: 0.9167 - val_loss: 1.7914 - val_accuracy: 0.5745\n",
            "Epoch 26/60\n",
            "22967/22967 [==============================] - 11s 492us/step - loss: 0.2059 - accuracy: 0.9247 - val_loss: 1.9357 - val_accuracy: 0.5498\n",
            "Epoch 27/60\n",
            "22967/22967 [==============================] - 11s 492us/step - loss: 0.1907 - accuracy: 0.9321 - val_loss: 1.6438 - val_accuracy: 0.6069\n",
            "Epoch 28/60\n",
            "22967/22967 [==============================] - 11s 491us/step - loss: 0.1698 - accuracy: 0.9395 - val_loss: 1.7892 - val_accuracy: 0.5886\n",
            "Epoch 29/60\n",
            "22967/22967 [==============================] - 11s 491us/step - loss: 0.1634 - accuracy: 0.9436 - val_loss: 2.2517 - val_accuracy: 0.5862\n",
            "Epoch 30/60\n",
            "22967/22967 [==============================] - 11s 492us/step - loss: 0.1522 - accuracy: 0.9464 - val_loss: 2.0475 - val_accuracy: 0.5890\n",
            "Epoch 31/60\n",
            "22967/22967 [==============================] - 11s 492us/step - loss: 0.1352 - accuracy: 0.9538 - val_loss: 1.9758 - val_accuracy: 0.5911\n",
            "Epoch 32/60\n",
            "22967/22967 [==============================] - 11s 491us/step - loss: 0.1350 - accuracy: 0.9530 - val_loss: 2.1566 - val_accuracy: 0.5723\n",
            "Epoch 33/60\n",
            "22967/22967 [==============================] - 11s 492us/step - loss: 0.1275 - accuracy: 0.9549 - val_loss: 1.9042 - val_accuracy: 0.5937\n",
            "Epoch 34/60\n",
            "22967/22967 [==============================] - 11s 491us/step - loss: 0.1249 - accuracy: 0.9564 - val_loss: 1.8223 - val_accuracy: 0.5796\n",
            "Epoch 35/60\n",
            "22967/22967 [==============================] - 11s 490us/step - loss: 0.1181 - accuracy: 0.9590 - val_loss: 2.3065 - val_accuracy: 0.5843\n",
            "Epoch 36/60\n",
            "22967/22967 [==============================] - 11s 493us/step - loss: 0.1251 - accuracy: 0.9568 - val_loss: 2.7199 - val_accuracy: 0.5744\n",
            "Epoch 37/60\n",
            "22967/22967 [==============================] - 11s 491us/step - loss: 0.1084 - accuracy: 0.9623 - val_loss: 2.0781 - val_accuracy: 0.5974\n",
            "Epoch 38/60\n",
            "22967/22967 [==============================] - 11s 490us/step - loss: 0.1125 - accuracy: 0.9618 - val_loss: 1.9627 - val_accuracy: 0.5763\n",
            "Epoch 39/60\n",
            "22967/22967 [==============================] - 11s 491us/step - loss: 0.0999 - accuracy: 0.9647 - val_loss: 2.2446 - val_accuracy: 0.6028\n",
            "Epoch 40/60\n",
            "22967/22967 [==============================] - 11s 491us/step - loss: 0.0923 - accuracy: 0.9672 - val_loss: 2.1705 - val_accuracy: 0.6073\n",
            "Epoch 41/60\n",
            "22967/22967 [==============================] - 11s 491us/step - loss: 0.0904 - accuracy: 0.9701 - val_loss: 2.2853 - val_accuracy: 0.6019\n",
            "Epoch 42/60\n",
            "22967/22967 [==============================] - 11s 493us/step - loss: 0.0919 - accuracy: 0.9687 - val_loss: 2.3576 - val_accuracy: 0.5930\n",
            "Epoch 43/60\n",
            "22967/22967 [==============================] - 11s 491us/step - loss: 0.0904 - accuracy: 0.9690 - val_loss: 2.4328 - val_accuracy: 0.5547\n",
            "Epoch 44/60\n",
            "22967/22967 [==============================] - 11s 492us/step - loss: 0.0913 - accuracy: 0.9683 - val_loss: 2.2234 - val_accuracy: 0.6031\n",
            "Epoch 45/60\n",
            "22967/22967 [==============================] - 11s 492us/step - loss: 0.0840 - accuracy: 0.9717 - val_loss: 2.3253 - val_accuracy: 0.6088\n",
            "Epoch 46/60\n",
            "22967/22967 [==============================] - 11s 492us/step - loss: 0.0826 - accuracy: 0.9727 - val_loss: 2.3656 - val_accuracy: 0.5845\n",
            "Epoch 47/60\n",
            "22967/22967 [==============================] - 11s 492us/step - loss: 0.0713 - accuracy: 0.9745 - val_loss: 2.3056 - val_accuracy: 0.6196\n",
            "Epoch 48/60\n",
            "22967/22967 [==============================] - 11s 492us/step - loss: 0.0823 - accuracy: 0.9724 - val_loss: 2.3499 - val_accuracy: 0.6001\n",
            "Epoch 49/60\n",
            "22967/22967 [==============================] - 11s 492us/step - loss: 0.0784 - accuracy: 0.9730 - val_loss: 2.5769 - val_accuracy: 0.5590\n",
            "Epoch 50/60\n",
            "22967/22967 [==============================] - 11s 491us/step - loss: 0.0869 - accuracy: 0.9712 - val_loss: 2.4366 - val_accuracy: 0.6028\n",
            "Epoch 51/60\n",
            "22967/22967 [==============================] - 11s 490us/step - loss: 0.0690 - accuracy: 0.9771 - val_loss: 2.3933 - val_accuracy: 0.5848\n",
            "Epoch 52/60\n",
            "22967/22967 [==============================] - 11s 491us/step - loss: 0.0740 - accuracy: 0.9762 - val_loss: 2.3906 - val_accuracy: 0.5933\n",
            "Epoch 53/60\n",
            "22967/22967 [==============================] - 11s 489us/step - loss: 0.0688 - accuracy: 0.9766 - val_loss: 2.9858 - val_accuracy: 0.6055\n",
            "Epoch 54/60\n",
            "22967/22967 [==============================] - 11s 490us/step - loss: 0.0682 - accuracy: 0.9773 - val_loss: 2.3251 - val_accuracy: 0.6034\n",
            "Epoch 55/60\n",
            "22967/22967 [==============================] - 11s 490us/step - loss: 0.0662 - accuracy: 0.9778 - val_loss: 2.1255 - val_accuracy: 0.6068\n",
            "Epoch 56/60\n",
            "22967/22967 [==============================] - 11s 491us/step - loss: 0.0776 - accuracy: 0.9739 - val_loss: 2.4456 - val_accuracy: 0.5693\n",
            "Epoch 57/60\n",
            "22967/22967 [==============================] - 11s 491us/step - loss: 0.0717 - accuracy: 0.9747 - val_loss: 2.5090 - val_accuracy: 0.5707\n",
            "Epoch 58/60\n",
            "22967/22967 [==============================] - 11s 490us/step - loss: 0.0720 - accuracy: 0.9755 - val_loss: 2.1553 - val_accuracy: 0.5960\n",
            "Epoch 59/60\n",
            "22967/22967 [==============================] - 11s 489us/step - loss: 0.0696 - accuracy: 0.9750 - val_loss: 2.5046 - val_accuracy: 0.6008\n"
          ],
          "name": "stdout"
        }
      ]
    },
    {
      "cell_type": "code",
      "metadata": {
        "id": "VFXG1uM8z_3p",
        "colab_type": "code",
        "outputId": "69689153-f784-4b27-f6c3-bd38e81a9229",
        "colab": {
          "base_uri": "https://localhost:8080/",
          "height": 52
        }
      },
      "source": [
        "\n",
        "moodel.evaluate(X_test,Y_test)"
      ],
      "execution_count": 0,
      "outputs": [
        {
          "output_type": "stream",
          "text": [
            "7178/7178 [==============================] - 2s 219us/step\n"
          ],
          "name": "stdout"
        },
        {
          "output_type": "execute_result",
          "data": {
            "text/plain": [
              "[2.4720780860085645, 0.6023961901664734]"
            ]
          },
          "metadata": {
            "tags": []
          },
          "execution_count": 83
        }
      ]
    },
    {
      "cell_type": "code",
      "metadata": {
        "id": "yFnCe_aLnUzU",
        "colab_type": "code",
        "colab": {}
      },
      "source": [
        "\n",
        "y_proba = moodel.predict(X_test)\n"
      ],
      "execution_count": 0,
      "outputs": []
    },
    {
      "cell_type": "code",
      "metadata": {
        "id": "r11sMHj7vp7Z",
        "colab_type": "code",
        "outputId": "ad9b891d-d482-4dc9-c2a5-0eca58178228",
        "colab": {
          "base_uri": "https://localhost:8080/",
          "height": 243
        }
      },
      "source": [
        "print(y_proba)"
      ],
      "execution_count": 0,
      "outputs": [
        {
          "output_type": "stream",
          "text": [
            "[[1.0350620e-02 5.9492182e-11 3.0311728e-10 ... 1.1485775e-08\n",
            "  1.2241052e-05 1.2422082e-04]\n",
            " [1.1646414e-04 1.4351420e-10 2.0058017e-04 ... 1.0236659e-01\n",
            "  7.6011027e-08 8.9731622e-01]\n",
            " [9.8489064e-01 6.0296884e-06 1.6410068e-03 ... 1.3458175e-02\n",
            "  9.9432805e-07 2.4383596e-06]\n",
            " ...\n",
            " [7.2114331e-01 1.8799008e-06 2.5575882e-01 ... 1.2899247e-07\n",
            "  1.9379528e-05 2.3059485e-02]\n",
            " [5.1630830e-04 1.4630030e-03 5.9978972e-04 ... 5.8378141e-08\n",
            "  9.9742091e-01 3.3950873e-09]\n",
            " [7.5959754e-01 3.4040813e-06 5.1175494e-04 ... 1.6808933e-01\n",
            "  1.0458949e-04 2.0464380e-05]]\n"
          ],
          "name": "stdout"
        }
      ]
    },
    {
      "cell_type": "code",
      "metadata": {
        "id": "EQ0uiU8TnVst",
        "colab_type": "code",
        "colab": {}
      },
      "source": [
        "#preds = keras.utils.np_utils.probas_to_classes(y_proba)\n",
        "#print (\"Loss = \" + str(preds[0]))\n",
        "#print (\"Test Accuracy = \" + str(preds[1]))"
      ],
      "execution_count": 0,
      "outputs": []
    },
    {
      "cell_type": "code",
      "metadata": {
        "id": "Ix5e_7j35wbn",
        "colab_type": "code",
        "colab": {}
      },
      "source": [
        "moodel.save(r\"/content/drive/My Drive/Moodel1\")"
      ],
      "execution_count": 0,
      "outputs": []
    }
  ]
}